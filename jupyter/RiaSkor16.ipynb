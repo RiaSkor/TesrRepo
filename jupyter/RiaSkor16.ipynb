{
 "cells": [
  {
   "cell_type": "code",
   "execution_count": 3,
   "id": "ed9ed812",
   "metadata": {},
   "outputs": [
    {
     "name": "stdout",
     "output_type": "stream",
     "text": [
      "[3.1666666666666665, 3.1333333333333333, 3.145238095238095, 3.1396825396825396, 3.1427128427128426, 3.1408813408813407, 3.142071817071817, 3.1412548236077646, 3.141839618929402, 3.1414067184965018, 3.1417360992606653, 3.141479689004255, 3.1416831892077552, 3.1415189855952756, 3.141653394197426]\n"
     ]
    }
   ],
   "source": [
    "p=3\n",
    "pi = []\n",
    "for i in range(15):\n",
    "    if (i+1) % 2==0:\n",
    "        p=p-(4/((2+2*i)*(3+2*i)*(4+2*i)))\n",
    "    else:\n",
    "        p=p+(4/((2+2*i)*(3+2*i)*(4+2*i)))\n",
    "    pi.append(p)\n",
    "     \n",
    "print(pi)"
   ]
  },
  {
   "cell_type": "code",
   "execution_count": null,
   "id": "832d94fb",
   "metadata": {},
   "outputs": [],
   "source": []
  }
 ],
 "metadata": {
  "kernelspec": {
   "display_name": "Python 3 (ipykernel)",
   "language": "python",
   "name": "python3"
  },
  "language_info": {
   "codemirror_mode": {
    "name": "ipython",
    "version": 3
   },
   "file_extension": ".py",
   "mimetype": "text/x-python",
   "name": "python",
   "nbconvert_exporter": "python",
   "pygments_lexer": "ipython3",
   "version": "3.9.12"
  }
 },
 "nbformat": 4,
 "nbformat_minor": 5
}
