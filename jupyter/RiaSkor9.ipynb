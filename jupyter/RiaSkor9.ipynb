{
 "cells": [
  {
   "cell_type": "code",
   "execution_count": 14,
   "id": "1cef9e34",
   "metadata": {},
   "outputs": [
    {
     "name": "stdout",
     "output_type": "stream",
     "text": [
      "Введите длину 1 стороны треугольника: 2\n",
      "Введите длину 2 стороны треугольника: 3\n",
      "Введите длину 3 стороны треугольника: 2\n",
      "Этот тип треугольника равнобедренный\n"
     ]
    }
   ],
   "source": [
    "a=float(input('Введите длину 1 стороны треугольника: '))\n",
    "b=float(input('Введите длину 2 стороны треугольника: '))\n",
    "c=float(input('Введите длину 3 стороны треугольника: '))\n",
    "if a==b==c:\n",
    "    print('Этот тип треугольника равносторонний')\n",
    "elif a==b or b==c or a==c:\n",
    "    print('Этот тип треугольника равнобедренный')\n",
    "elif a!=b!=c:\n",
    "    print('Этот тип треугольника разносторонний')"
   ]
  },
  {
   "cell_type": "code",
   "execution_count": 15,
   "id": "a6666e54",
   "metadata": {},
   "outputs": [
    {
     "name": "stdout",
     "output_type": "stream",
     "text": [
      "Введите номинал банкноты США: 50\n",
      "Улисс Грант\n"
     ]
    }
   ],
   "source": [
    "n=float(input('Введите номинал банкноты США: '))\n",
    "if n==1:\n",
    "    print('Джордж Вашингтон')\n",
    "elif n==2:\n",
    "    print('Томас Джефферсон')\n",
    "elif n==5:\n",
    "    print('Авраам Линкольн')\n",
    "elif n==10:\n",
    "    print('Александр Гамильтон')\n",
    "elif n==20:\n",
    "    print('Эндрю Джексон')\n",
    "elif n==50:\n",
    "    print('Улисс Грант')\n",
    "elif n==100:\n",
    "    print('Бенджамин Франклин')\n",
    "else:\n",
    "    print('Данного номинала не существует')"
   ]
  },
  {
   "cell_type": "code",
   "execution_count": null,
   "id": "259266a9",
   "metadata": {},
   "outputs": [],
   "source": []
  }
 ],
 "metadata": {
  "kernelspec": {
   "display_name": "Python 3 (ipykernel)",
   "language": "python",
   "name": "python3"
  },
  "language_info": {
   "codemirror_mode": {
    "name": "ipython",
    "version": 3
   },
   "file_extension": ".py",
   "mimetype": "text/x-python",
   "name": "python",
   "nbconvert_exporter": "python",
   "pygments_lexer": "ipython3",
   "version": "3.9.12"
  }
 },
 "nbformat": 4,
 "nbformat_minor": 5
}
