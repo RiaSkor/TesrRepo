{
 "cells": [
  {
   "cell_type": "code",
   "execution_count": 12,
   "id": "90011dd6",
   "metadata": {},
   "outputs": [
    {
     "name": "stdout",
     "output_type": "stream",
     "text": [
      "Введите буквенную оценку: F\n",
      "Численная оценка: 0\n"
     ]
    }
   ],
   "source": [
    "l=str(input('Введите буквенную оценку: '))\n",
    "if l==('A+'):\n",
    "    print('Численная оценка: 4,0')\n",
    "elif l==('A'):\n",
    "    print('Численная оценка: 4,0')\n",
    "elif l==('A-'):\n",
    "    print('Численная оценка: 3,7')\n",
    "elif l==('B+'):\n",
    "    print('Численная оценка: 3,3')\n",
    "elif l==('B'):\n",
    "    print('Численная оценка: 3,0')\n",
    "elif l==('B-'):\n",
    "    print('Численная оценка: 2,7')\n",
    "elif l==('C+'):\n",
    "    print('Численная оценка: 2,3')\n",
    "elif l==('C'):\n",
    "    print('Численная оценка: 2,0')\n",
    "elif l==('C-'):\n",
    "    print('Численная оценка: 1,7')\n",
    "elif l==('D+'):\n",
    "    print('Численная оценка: 1,3')\n",
    "elif l==('D'):\n",
    "    print('Численная оценка: 1,0')\n",
    "elif l==('F'):\n",
    "    print('Численная оценка: 0')\n",
    "else:\n",
    "    print('Введено неправильное значение')"
   ]
  },
  {
   "cell_type": "code",
   "execution_count": 21,
   "id": "b60b1061",
   "metadata": {},
   "outputs": [
    {
     "name": "stdout",
     "output_type": "stream",
     "text": [
      "Введите численную оценку: 1.4\n",
      "Буквенная оценка: C-\n"
     ]
    }
   ],
   "source": [
    "n=float(input('Введите численную оценку: '))\n",
    "if n>=4.0:\n",
    "    print('Буквенная оценка: A+')\n",
    "elif 4.0>=n>=3.7:\n",
    "    print('Буквенная оценка: A')\n",
    "elif 3.7>=n>=3.3:\n",
    "    print('Буквенная оценка: A-')\n",
    "elif 3.3>=n>=3.0:\n",
    "    print('Буквенная оценка: B+')\n",
    "elif 3.0>=n>=2.7:\n",
    "    print('Буквенная оценка: B')\n",
    "elif 2.7>=n>=2.3:\n",
    "    print('Буквенная оценка: B-')\n",
    "elif 2.3>=n>=2.0:\n",
    "    print('Буквенная оценка: C+')\n",
    "elif 2.0>=n>=1.7:\n",
    "    print('Буквенная оценка: C')\n",
    "elif 1.7>=n>=1.3:\n",
    "    print('Буквенная оценка: C-')\n",
    "elif 1.0>=n>=1.3:\n",
    "    print('Буквенная оценка: D+')\n",
    "elif 1.3>=n>=1:\n",
    "    print('Буквенная оценка: D')\n",
    "elif n<=0:\n",
    "    print('Буквенная оценка: F')"
   ]
  },
  {
   "cell_type": "code",
   "execution_count": null,
   "id": "cd8a9644",
   "metadata": {},
   "outputs": [],
   "source": []
  }
 ],
 "metadata": {
  "kernelspec": {
   "display_name": "Python 3 (ipykernel)",
   "language": "python",
   "name": "python3"
  },
  "language_info": {
   "codemirror_mode": {
    "name": "ipython",
    "version": 3
   },
   "file_extension": ".py",
   "mimetype": "text/x-python",
   "name": "python",
   "nbconvert_exporter": "python",
   "pygments_lexer": "ipython3",
   "version": "3.9.12"
  }
 },
 "nbformat": 4,
 "nbformat_minor": 5
}
