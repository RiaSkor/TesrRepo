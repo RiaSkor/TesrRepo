{
 "cells": [
  {
   "cell_type": "code",
   "execution_count": 8,
   "id": "ae70425b",
   "metadata": {},
   "outputs": [
    {
     "name": "stdout",
     "output_type": "stream",
     "text": [
      "Введите день и месяц канадского национального праздника: 01.07\n",
      "День Канады\n"
     ]
    }
   ],
   "source": [
    "p=input('Введите день и месяц канадского национального праздника: ')\n",
    "if p==('1 января') or p==('01.01'):\n",
    "    print('Новый год')\n",
    "elif p==('1 июля') or p==('01.07'):\n",
    "    print('День Канады')\n",
    "elif p==('25 декабря') or p==('01.12'):\n",
    "    print('Рождество')"
   ]
  },
  {
   "cell_type": "code",
   "execution_count": 40,
   "id": "635df527",
   "metadata": {},
   "outputs": [
    {
     "name": "stdout",
     "output_type": "stream",
     "text": [
      "Введите месяц рождения: ноябрь\n",
      "Введите число рождения: 28\n",
      "Стрелец\n"
     ]
    }
   ],
   "source": [
    "month=input('Введите месяц рождения: ')\n",
    "day=int(input('Введите число рождения: '))\n",
    "if month==('декабрь'):\n",
    "    if day>=22:\n",
    "        print('Козерог')\n",
    "    else:\n",
    "        if day<=21: \n",
    "            print('Стрелец')\n",
    "if month==('январь'):\n",
    "    if day<=19:\n",
    "        print('Козерог')\n",
    "    else:\n",
    "        if day>=20:\n",
    "            print('Водолей')\n",
    "if month==('февраль'):\n",
    "    if day<=18:\n",
    "        print('Водолей')\n",
    "    else:\n",
    "        if day>=19:\n",
    "            print('Рыбы')\n",
    "if month==('март'):\n",
    "    if day<=20:\n",
    "        print('Рыбы')\n",
    "    else:\n",
    "        if day>=21:\n",
    "            print('Овен')\n",
    "if month==('апрель'):\n",
    "    if day<=19:\n",
    "        print('Овен')\n",
    "    else:\n",
    "        if day>=20:\n",
    "            print('Телец')\n",
    "if month==('май'):\n",
    "    if day<=20:\n",
    "        print('Телец')\n",
    "    else:\n",
    "        if day>=21:\n",
    "            print('Близнецы')\n",
    "if month==('июнь'):\n",
    "    if day<=20:\n",
    "        print('Близнецы')\n",
    "    else:\n",
    "        if day>=21:\n",
    "            print('Рак')\n",
    "if month==('июль'):\n",
    "    if day<=22:\n",
    "        print('Рак')\n",
    "    else:\n",
    "        if day>=23:\n",
    "            print('Лев')\n",
    "if month==('август'):\n",
    "    if day<=22:\n",
    "        print('Лев')\n",
    "    else:\n",
    "        if day>=23:\n",
    "            print('Дева')\n",
    "if month==('сентябрь'):\n",
    "    if day<=22:\n",
    "        print('Дева')\n",
    "    else:\n",
    "        if day>=23:\n",
    "            print('Весы')\n",
    "if month==('октябрь'):\n",
    "    if day<=22:\n",
    "        print('Весы')\n",
    "    else:\n",
    "        if day>=23:\n",
    "            print('Скорпион')\n",
    "if month==('ноябрь'):\n",
    "    if day<=21:\n",
    "        print('Скорпион')\n",
    "    else:\n",
    "        if day>=22:\n",
    "            print('Стрелец')"
   ]
  },
  {
   "cell_type": "code",
   "execution_count": null,
   "id": "d3c893d5",
   "metadata": {},
   "outputs": [],
   "source": []
  }
 ],
 "metadata": {
  "kernelspec": {
   "display_name": "Python 3 (ipykernel)",
   "language": "python",
   "name": "python3"
  },
  "language_info": {
   "codemirror_mode": {
    "name": "ipython",
    "version": 3
   },
   "file_extension": ".py",
   "mimetype": "text/x-python",
   "name": "python",
   "nbconvert_exporter": "python",
   "pygments_lexer": "ipython3",
   "version": "3.9.12"
  }
 },
 "nbformat": 4,
 "nbformat_minor": 5
}
