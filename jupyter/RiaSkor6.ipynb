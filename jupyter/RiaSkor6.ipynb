{
 "cells": [
  {
   "cell_type": "code",
   "execution_count": 4,
   "id": "f29ebfb5",
   "metadata": {},
   "outputs": [
    {
     "name": "stdout",
     "output_type": "stream",
     "text": [
      "Sat Oct 15 13:06:29 2022\n"
     ]
    }
   ],
   "source": [
    "import time\n",
    "result = time.asctime(time_local)\n",
    "print(result)"
   ]
  },
  {
   "cell_type": "code",
   "execution_count": 6,
   "id": "c84a28a7",
   "metadata": {},
   "outputs": [
    {
     "name": "stdout",
     "output_type": "stream",
     "text": [
      "введите Температуру воздуха в Цельсиях: 20\n",
      "20.0 градусов Цельсия равно 68.0 градусам по Фарингейту\n",
      "20.0 градусов Цельсия равно 293.0 градусам по Кельвину\n"
     ]
    }
   ],
   "source": [
    "C = float(input('введите Температуру воздуха в Цельсиях: '))\n",
    "F = C*1.8+32\n",
    "K = C+273\n",
    "print(C, 'градусов Цельсия равно', F, 'градусам по Фарингейту')\n",
    "print(C, 'градусов Цельсия равно', K, 'градусам по Кельвину')"
   ]
  },
  {
   "cell_type": "code",
   "execution_count": null,
   "id": "6be2ae78",
   "metadata": {},
   "outputs": [],
   "source": []
  }
 ],
 "metadata": {
  "kernelspec": {
   "display_name": "Python 3 (ipykernel)",
   "language": "python",
   "name": "python3"
  },
  "language_info": {
   "codemirror_mode": {
    "name": "ipython",
    "version": 3
   },
   "file_extension": ".py",
   "mimetype": "text/x-python",
   "name": "python",
   "nbconvert_exporter": "python",
   "pygments_lexer": "ipython3",
   "version": "3.9.12"
  }
 },
 "nbformat": 4,
 "nbformat_minor": 5
}
