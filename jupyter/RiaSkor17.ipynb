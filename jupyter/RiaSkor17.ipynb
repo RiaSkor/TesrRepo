{
 "cells": [
  {
   "cell_type": "code",
   "execution_count": 30,
   "id": "905065b8",
   "metadata": {},
   "outputs": [
    {
     "name": "stdout",
     "output_type": "stream",
     "text": [
      "Введите число: 10\n",
      "Квадратный корень числа равен:  3.5\n"
     ]
    }
   ],
   "source": [
    "x=int(input('Введите число: '))\n",
    "guess=(x/2)\n",
    "guess2=guess+1\n",
    "n=x/guess\n",
    "guess2=guess\n",
    "guess=(guess+n)/2\n",
    "print('Квадратный корень числа равен: ', guess)"
   ]
  },
  {
   "cell_type": "code",
   "execution_count": null,
   "id": "8cb48303",
   "metadata": {},
   "outputs": [],
   "source": []
  }
 ],
 "metadata": {
  "kernelspec": {
   "display_name": "Python 3 (ipykernel)",
   "language": "python",
   "name": "python3"
  },
  "language_info": {
   "codemirror_mode": {
    "name": "ipython",
    "version": 3
   },
   "file_extension": ".py",
   "mimetype": "text/x-python",
   "name": "python",
   "nbconvert_exporter": "python",
   "pygments_lexer": "ipython3",
   "version": "3.9.12"
  }
 },
 "nbformat": 4,
 "nbformat_minor": 5
}
