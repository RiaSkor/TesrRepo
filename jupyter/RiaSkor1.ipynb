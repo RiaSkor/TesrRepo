{
 "cells": [
  {
   "cell_type": "code",
   "execution_count": 1,
   "id": "835c9534",
   "metadata": {},
   "outputs": [
    {
     "name": "stdout",
     "output_type": "stream",
     "text": [
      "Мария Савушкаина, 33\n"
     ]
    }
   ],
   "source": [
    "print(\"Мария\", \"Савушкаина, 33\")"
   ]
  },
  {
   "cell_type": "code",
   "execution_count": 2,
   "id": "735116b1",
   "metadata": {},
   "outputs": [
    {
     "name": "stdout",
     "output_type": "stream",
     "text": [
      "Введите имя: Мария\n",
      "Привет  Мария\n"
     ]
    }
   ],
   "source": [
    "name=input(\"Введите имя: \")\n",
    "print(\"Привет \", name)"
   ]
  },
  {
   "cell_type": "code",
   "execution_count": 6,
   "id": "b4d27e2d",
   "metadata": {},
   "outputs": [
    {
     "name": "stdout",
     "output_type": "stream",
     "text": [
      "Длина комнаты: 2\n",
      "Ширина комнаты: 3\n",
      "Площадь комнаты:  6.0 м\n"
     ]
    }
   ],
   "source": [
    "length=float(input(\"Длина комнаты: \"))\n",
    "width=float(input(\"Ширина комнаты: \"))\n",
    "S=length*width\n",
    "print(\"Площадь комнаты: \", S, \"м\")"
   ]
  },
  {
   "cell_type": "code",
   "execution_count": 8,
   "id": "753ca282",
   "metadata": {},
   "outputs": [
    {
     "name": "stdout",
     "output_type": "stream",
     "text": [
      "Длина сада: 5000\n",
      "Ширина сада: 5000\n",
      "Площадь сада:  6177.635181484095 акр\n"
     ]
    }
   ],
   "source": [
    "length=float(input(\"Длина сада: \"))\n",
    "width=float(input(\"Ширина сада: \"))\n",
    "S=length*width/4046.856\n",
    "print(\"Площадь сада: \", S, \"акр\")"
   ]
  },
  {
   "cell_type": "code",
   "execution_count": 1,
   "id": "854a77c6",
   "metadata": {},
   "outputs": [
    {
     "name": "stdout",
     "output_type": "stream",
     "text": [
      "Количество бутылок объёмом 1 л и менее: 1\n",
      "Количество бутылок объёмом более 1 л: 2\n",
      "За сдачу бутылок вы получите:  $ 0.6\n"
     ]
    }
   ],
   "source": [
    "first=float(input(\"Количество бутылок объёмом 1 л и менее: \"))\n",
    "second=float(input(\"Количество бутылок объёмом более 1 л: \"))\n",
    "summ=round(0.1*first+0.25*second, 2)\n",
    "print(\"За сдачу бутылок вы получите: \", \"$\", summ)"
   ]
  },
  {
   "cell_type": "code",
   "execution_count": null,
   "id": "1e43be38",
   "metadata": {},
   "outputs": [],
   "source": []
  }
 ],
 "metadata": {
  "kernelspec": {
   "display_name": "Python 3 (ipykernel)",
   "language": "python",
   "name": "python3"
  },
  "language_info": {
   "codemirror_mode": {
    "name": "ipython",
    "version": 3
   },
   "file_extension": ".py",
   "mimetype": "text/x-python",
   "name": "python",
   "nbconvert_exporter": "python",
   "pygments_lexer": "ipython3",
   "version": "3.9.12"
  }
 },
 "nbformat": 4,
 "nbformat_minor": 5
}
