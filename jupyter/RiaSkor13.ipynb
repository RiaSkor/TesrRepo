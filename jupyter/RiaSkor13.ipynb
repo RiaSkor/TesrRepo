{
 "cells": [
  {
   "cell_type": "code",
   "execution_count": 1,
   "id": "5ae64ae1",
   "metadata": {},
   "outputs": [
    {
     "name": "stdout",
     "output_type": "stream",
     "text": [
      "Выпавший номер: 21...\n",
      "Выигрывшая ставка 21\n",
      "Выигрывшая ставка: красное\n",
      "Выигравшая ставка: нечетное\n",
      "Выигравшая ставка: от 19 до 36\n"
     ]
    }
   ],
   "source": [
    "from random import randrange\n",
    "v=randrange(0,38)\n",
    "if v==37:\n",
    "    print (\"Выпавший номер:00...\")\n",
    "else:\n",
    "    print(\"Выпавший номер: %d...\"% v)\n",
    "if v==37:\n",
    "    print(\"выигрывшая ставка: 00\")\n",
    "else:\n",
    "    print(\"Выигрывшая ставка\", v)\n",
    "if v % 2 == 1 and v>= 1 and v<= 9 or\\\n",
    "    v % 2 == 0 and v>= 12 and v<= 18 or\\\n",
    "    v % 2 == 1 and v>= 19 and v<= 27 or\\\n",
    "    v % 2 == 0 and v>= 30 and v<= 36:\n",
    "        print(\"Выигрывшая ставка: красное\")\n",
    "elif v==0 or v ==37:\n",
    "    pass\n",
    "else:\n",
    "    print(\"Выигравшая ставка:черное\")\n",
    "if v >=1 and v<=36:\n",
    "    if v%2==1:\n",
    "        print(\"Выигравшая ставка: нечетное\")\n",
    "    else:\n",
    "          print(\"выигрывшая ставка: четное\")\n",
    "if v>=1 and v<=18:\n",
    "    print(\"Выигравшая ставка: от1 до 18\")\n",
    "elif v>=19 and v<=36:\n",
    "    print(\"Выигравшая ставка: от 19 до 36\")    "
   ]
  },
  {
   "cell_type": "code",
   "execution_count": null,
   "id": "6f3bc922",
   "metadata": {},
   "outputs": [],
   "source": []
  }
 ],
 "metadata": {
  "kernelspec": {
   "display_name": "Python 3 (ipykernel)",
   "language": "python",
   "name": "python3"
  },
  "language_info": {
   "codemirror_mode": {
    "name": "ipython",
    "version": 3
   },
   "file_extension": ".py",
   "mimetype": "text/x-python",
   "name": "python",
   "nbconvert_exporter": "python",
   "pygments_lexer": "ipython3",
   "version": "3.9.12"
  }
 },
 "nbformat": 4,
 "nbformat_minor": 5
}
