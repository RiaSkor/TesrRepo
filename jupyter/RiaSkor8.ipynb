{
 "cells": [
  {
   "cell_type": "code",
   "execution_count": 14,
   "id": "f9c68778",
   "metadata": {},
   "outputs": [
    {
     "name": "stdout",
     "output_type": "stream",
     "text": [
      "Введите число: 7\n",
      "Нечентное число\n"
     ]
    }
   ],
   "source": [
    "numb=int(input('Введите число: '))\n",
    "if numb % 2 == 0:\n",
    "    print('Четное число')\n",
    "else:\n",
    "    print('Нечентное число')"
   ]
  },
  {
   "cell_type": "code",
   "execution_count": 17,
   "id": "f1d88ba7",
   "metadata": {},
   "outputs": [
    {
     "name": "stdout",
     "output_type": "stream",
     "text": [
      "Введите свой возраст: 19\n",
      "89.0\n"
     ]
    }
   ],
   "source": [
    "age=float(input('Введите свой возраст: '))\n",
    "if age==1 or age==2:\n",
    "    age=age*10.5\n",
    "    print(age)\n",
    "elif age > 2:\n",
    "    age=10.5*2 + (age-2)*4\n",
    "    print(age)\n",
    "else:\n",
    "    print('Ошибка ввода значения')"
   ]
  },
  {
   "cell_type": "code",
   "execution_count": null,
   "id": "90c24fe8",
   "metadata": {},
   "outputs": [],
   "source": []
  }
 ],
 "metadata": {
  "kernelspec": {
   "display_name": "Python 3 (ipykernel)",
   "language": "python",
   "name": "python3"
  },
  "language_info": {
   "codemirror_mode": {
    "name": "ipython",
    "version": 3
   },
   "file_extension": ".py",
   "mimetype": "text/x-python",
   "name": "python",
   "nbconvert_exporter": "python",
   "pygments_lexer": "ipython3",
   "version": "3.9.12"
  }
 },
 "nbformat": 4,
 "nbformat_minor": 5
}
