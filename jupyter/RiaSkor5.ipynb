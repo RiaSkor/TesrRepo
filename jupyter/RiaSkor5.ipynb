{
 "cells": [
  {
   "cell_type": "code",
   "execution_count": 1,
   "id": "9abf4e05",
   "metadata": {},
   "outputs": [
    {
     "name": "stdout",
     "output_type": "stream",
     "text": [
      "Введите длину основания треугольника: 3\n",
      "Введите высоту треугольника: 4\n",
      "Площадь треугольника равна:  6.0\n"
     ]
    }
   ],
   "source": [
    "b=float(input(\"Введите длину основания треугольника: \"))\n",
    "h=float(input(\"Введите высоту треугольника: \"))\n",
    "area=(b*h)/2\n",
    "print(\"Площадь треугольника равна: \", area)"
   ]
  },
  {
   "cell_type": "code",
   "execution_count": null,
   "id": "5903c0d8",
   "metadata": {},
   "outputs": [],
   "source": []
  }
 ],
 "metadata": {
  "kernelspec": {
   "display_name": "Python 3 (ipykernel)",
   "language": "python",
   "name": "python3"
  },
  "language_info": {
   "codemirror_mode": {
    "name": "ipython",
    "version": 3
   },
   "file_extension": ".py",
   "mimetype": "text/x-python",
   "name": "python",
   "nbconvert_exporter": "python",
   "pygments_lexer": "ipython3",
   "version": "3.9.12"
  }
 },
 "nbformat": 4,
 "nbformat_minor": 5
}
