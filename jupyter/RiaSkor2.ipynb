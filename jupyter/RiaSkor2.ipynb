{
 "cells": [
  {
   "cell_type": "code",
   "execution_count": 2,
   "id": "e8b47019",
   "metadata": {},
   "outputs": [
    {
     "name": "stdout",
     "output_type": "stream",
     "text": [
      "Введите сумму заказа: 2000\n",
      "Налог:  260.0 Чаевые:  360.0 Итог:  2620.0\n"
     ]
    }
   ],
   "source": [
    "summZ=float(input(\"Введите сумму заказа: \"))\n",
    "tea=round(summZ*0.18, 2)\n",
    "nal=round(summZ*0.13, 2)\n",
    "over=round(tea+nal+summZ, 2)\n",
    "print(\"Налог: \",nal,\"Чаевые: \",tea,\"Итог: \",over)"
   ]
  },
  {
   "cell_type": "code",
   "execution_count": 5,
   "id": "2c031f3d",
   "metadata": {},
   "outputs": [
    {
     "name": "stdout",
     "output_type": "stream",
     "text": [
      "Введите число: 69\n",
      "2415.0\n"
     ]
    }
   ],
   "source": [
    "n=float(input(\"Введите число: \"))\n",
    "sum=n*(n+1)/2\n",
    "print(sum)"
   ]
  },
  {
   "cell_type": "code",
   "execution_count": 6,
   "id": "0114f421",
   "metadata": {},
   "outputs": [
    {
     "name": "stdout",
     "output_type": "stream",
     "text": [
      "Количество сувениров: 20\n",
      "Количество безделушек: 1\n",
      "Общий вес посылки:  1612.0\n"
     ]
    }
   ],
   "source": [
    "over1=float(input(\"Количество сувениров: \"))\n",
    "over2=float(input(\"Количество безделушек: \"))\n",
    "sum1=75*over1\n",
    "sum2=112*over2\n",
    "summ=sum1+sum2\n",
    "print(\"Общий вес посылки: \", summ)"
   ]
  },
  {
   "cell_type": "code",
   "execution_count": 10,
   "id": "17e65aa3",
   "metadata": {},
   "outputs": [
    {
     "name": "stdout",
     "output_type": "stream",
     "text": [
      "Первоначальный депозит: 100000\n",
      "Сумма за первый год:  365000 Сумма за второй год:  730000 Сумма за третий год:  1095000\n"
     ]
    }
   ],
   "source": [
    "dep=float(input(\"Первоначальный депозит: \"))\n",
    "P=0.4\n",
    "t1=365\n",
    "t2=730\n",
    "t3=1095\n",
    "T=365\n",
    "first=round((dep*P)*(t1/P)/100)\n",
    "second=round((dep*P)*(t2/P)/100)\n",
    "third=round((dep*P)*(t3/P)/100)\n",
    "print(\"Сумма за первый год: \", first, \"Сумма за второй год: \", second, \"Сумма за третий год: \", third)"
   ]
  },
  {
   "cell_type": "code",
   "execution_count": 12,
   "id": "39a10367",
   "metadata": {},
   "outputs": [
    {
     "name": "stdout",
     "output_type": "stream",
     "text": [
      "Введите первое значение переменной: 4\n",
      "Введите второе значение переменной: 2\n",
      "6.0 2.0 8.0 2.0 0.0 0.6020599913279624 16.0\n"
     ]
    }
   ],
   "source": [
    "a=float(input(\"Введите первое значение переменной: \"))\n",
    "b=float(input(\"Введите второе значение переменной: \"))\n",
    "summ=a+b\n",
    "rasn=a-b\n",
    "proisv=a*b\n",
    "chast1=a/b\n",
    "import math\n",
    "chast2=math.fmod(a, b)\n",
    "log=math.log10(a)\n",
    "step=math.pow(a, b)\n",
    "print(summ, rasn, proisv, chast1, chast2, log, step)"
   ]
  },
  {
   "cell_type": "code",
   "execution_count": null,
   "id": "e3d6b8b4",
   "metadata": {},
   "outputs": [],
   "source": []
  }
 ],
 "metadata": {
  "kernelspec": {
   "display_name": "Python 3 (ipykernel)",
   "language": "python",
   "name": "python3"
  },
  "language_info": {
   "codemirror_mode": {
    "name": "ipython",
    "version": 3
   },
   "file_extension": ".py",
   "mimetype": "text/x-python",
   "name": "python",
   "nbconvert_exporter": "python",
   "pygments_lexer": "ipython3",
   "version": "3.9.12"
  }
 },
 "nbformat": 4,
 "nbformat_minor": 5
}
