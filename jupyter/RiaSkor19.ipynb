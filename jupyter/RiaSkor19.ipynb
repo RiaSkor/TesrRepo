{
 "cells": [
  {
   "cell_type": "code",
   "execution_count": 70,
   "id": "e743b53a",
   "metadata": {},
   "outputs": [
    {
     "name": "stdout",
     "output_type": "stream",
     "text": [
      "Введите целое число (2 или больше): 72\n",
      "Простые множители числа  72 : \n",
      "2\n",
      "2\n",
      "2\n",
      "3\n",
      "3\n"
     ]
    }
   ],
   "source": [
    "import math\n",
    "number=int(input(\"Введите целое число (2 или больше): \"))\n",
    "if number>=2:\n",
    "    print(\"Простые множители числа \", number, \": \")\n",
    "if number<2:\n",
    "    print(\"Ошибка ввода значений\")\n",
    "for i in range(2, int(number) + 1):\n",
    "    while (number % i == 0):\n",
    "        print(i)\n",
    "        number //= i # убираем множитель из числа\n",
    "if (number != 1): # но один делитель может быть больше корня\n",
    "    print (number)"
   ]
  },
  {
   "cell_type": "code",
   "execution_count": null,
   "id": "1bc0e693",
   "metadata": {},
   "outputs": [],
   "source": []
  }
 ],
 "metadata": {
  "kernelspec": {
   "display_name": "Python 3 (ipykernel)",
   "language": "python",
   "name": "python3"
  },
  "language_info": {
   "codemirror_mode": {
    "name": "ipython",
    "version": 3
   },
   "file_extension": ".py",
   "mimetype": "text/x-python",
   "name": "python",
   "nbconvert_exporter": "python",
   "pygments_lexer": "ipython3",
   "version": "3.9.12"
  }
 },
 "nbformat": 4,
 "nbformat_minor": 5
}
