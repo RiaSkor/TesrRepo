{
 "cells": [
  {
   "cell_type": "code",
   "execution_count": 29,
   "id": "df551d1e",
   "metadata": {},
   "outputs": [
    {
     "name": "stdout",
     "output_type": "stream",
     "text": [
      "Введите значение частоты волны (в степени): 7.5e14\n",
      "Ультрафиолетовое излучение\n"
     ]
    }
   ],
   "source": [
    "v=int(float(input('Введите значение частоты волны (в степени): ')))\n",
    "if v<3*10**9:\n",
    "    k='Радиоволны'\n",
    "if v>=3*10**9 and v<3*10**12:\n",
    "    k='Микроволны'\n",
    "if v>=3*10**12 and v<4.3*10**14:\n",
    "    k='Инфракрасное излучение'\n",
    "if v>=4.3*10**14 and v<7.5*10**14:\n",
    "    k='Видимое излучение'\n",
    "if v>=7.5*10**14 and v<3*10**17:\n",
    "    k='Ультрафиолетовое излучение'\n",
    "if v>=3*10**17 and v<3*10**19:\n",
    "    k='Рентгеновское излучение'\n",
    "if v>=3*10**19:\n",
    "    k='Гамма-излучение'\n",
    "print(k)"
   ]
  },
  {
   "cell_type": "code",
   "execution_count": 33,
   "id": "5255296b",
   "metadata": {},
   "outputs": [
    {
     "name": "stdout",
     "output_type": "stream",
     "text": [
      "Введите год: 2022\n",
      "Не високосный\n"
     ]
    }
   ],
   "source": [
    "y=int(input('Введите год: '))\n",
    "if y%400==0:\n",
    "    print('Високосный')\n",
    "elif y%100==0:\n",
    "    print('Не високосный')\n",
    "elif y%4==0:\n",
    "    print('Високосный')\n",
    "else:\n",
    "    print('Не високосный')"
   ]
  },
  {
   "cell_type": "code",
   "execution_count": null,
   "id": "41b21d80",
   "metadata": {},
   "outputs": [],
   "source": []
  }
 ],
 "metadata": {
  "kernelspec": {
   "display_name": "Python 3 (ipykernel)",
   "language": "python",
   "name": "python3"
  },
  "language_info": {
   "codemirror_mode": {
    "name": "ipython",
    "version": 3
   },
   "file_extension": ".py",
   "mimetype": "text/x-python",
   "name": "python",
   "nbconvert_exporter": "python",
   "pygments_lexer": "ipython3",
   "version": "3.9.12"
  }
 },
 "nbformat": 4,
 "nbformat_minor": 5
}
