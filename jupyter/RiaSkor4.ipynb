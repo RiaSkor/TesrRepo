{
 "cells": [
  {
   "cell_type": "code",
   "execution_count": 6,
   "id": "7618edd6",
   "metadata": {},
   "outputs": [
    {
     "name": "stdout",
     "output_type": "stream",
     "text": [
      "Введите радиус: 3\n",
      "Площадь круга:  28.274333882308138 Объём шара:  63.61725123519331\n"
     ]
    }
   ],
   "source": [
    "r=float(input(\"Введите радиус: \"))\n",
    "import math\n",
    "area=math.pi*r**2\n",
    "volume=(3/4)*math.pi*r**3\n",
    "print(\"Площадь круга: \", area, \"Объём шара: \", volume)"
   ]
  },
  {
   "cell_type": "code",
   "execution_count": 20,
   "id": "857ea3f0",
   "metadata": {
    "scrolled": true
   },
   "outputs": [
    {
     "name": "stdout",
     "output_type": "stream",
     "text": [
      "Введите массу воды: 300\n",
      "Введите требуемую разницу температур: 30\n",
      "37674 Дж потребуется для изменения температуры воды на  30.0 градусов по Цельсию\n",
      "0.09321301079999998 центов потребуется для нагрева воды на  30.0 градусов по Цельсию\n"
     ]
    }
   ],
   "source": [
    "m=float(input(\"Введите массу воды: \"))\n",
    "T=float(input(\"Введите требуемую разницу температур: \"))\n",
    "C=4.186\n",
    "q=round(m*C*T)\n",
    "print(q, \"Дж потребуется для изменения температуры воды на \", T, \"градусов по Цельсию\")\n",
    "kwh=q*2.78*10**(-7)\n",
    "cent=kwh*8.9\n",
    "print(cent, \"центов потребуется для нагрева воды на \", T, \"градусов по Цельсию\")"
   ]
  },
  {
   "cell_type": "code",
   "execution_count": 21,
   "id": "9ed87fa4",
   "metadata": {},
   "outputs": [
    {
     "name": "stdout",
     "output_type": "stream",
     "text": [
      "Введите радиус цилиндра: 4\n",
      "Введите высоту цилиндра: 6\n",
      "Объём цилиндра равен:  301.6\n"
     ]
    }
   ],
   "source": [
    "r=float(input(\"Введите радиус цилиндра: \"))\n",
    "h=float(input(\"Введите высоту цилиндра: \"))\n",
    "import math\n",
    "V=round(math.pi*r**2*h, 1)\n",
    "print(\"Объём цилиндра равен: \", V)"
   ]
  },
  {
   "cell_type": "code",
   "execution_count": 26,
   "id": "ff5ff411",
   "metadata": {},
   "outputs": [
    {
     "name": "stdout",
     "output_type": "stream",
     "text": [
      "Введите высоту в м, с которой объект будет опущен: 20\n",
      "Конечная скорость в точке соприкосновения объекта с землёй:  19.79898987322333\n"
     ]
    }
   ],
   "source": [
    "b=float(input(\"Введите высоту в м, с которой объект будет опущен: \"))\n",
    "a=9.8\n",
    "v1=0\n",
    "import math\n",
    "v2=math.sqrt(v1**2+2*a*b)\n",
    "print(\"Конечная скорость в точке соприкосновения объекта с землёй: \", v2)"
   ]
  },
  {
   "cell_type": "code",
   "execution_count": 28,
   "id": "3676841c",
   "metadata": {},
   "outputs": [
    {
     "name": "stdout",
     "output_type": "stream",
     "text": [
      "Введите давление в паскалях: 4\n",
      "Введите объём в литрах: 5\n",
      "Введите температуру в Цельсиях: 6\n",
      "Количесво газа в молях равно:  0.008617520859032397\n"
     ]
    }
   ],
   "source": [
    "R=8.314\n",
    "P=float(input(\"Введите давление в паскалях: \"))\n",
    "V=float(input(\"Введите объём в литрах: \"))\n",
    "t=float(input(\"Введите температуру в Цельсиях: \"))\n",
    "T=t+273.15\n",
    "n=(P*V)/(R*T)\n",
    "print(\"Количесво газа в молях равно: \", n)"
   ]
  },
  {
   "cell_type": "code",
   "execution_count": null,
   "id": "c6442639",
   "metadata": {},
   "outputs": [],
   "source": []
  }
 ],
 "metadata": {
  "kernelspec": {
   "display_name": "Python 3 (ipykernel)",
   "language": "python",
   "name": "python3"
  },
  "language_info": {
   "codemirror_mode": {
    "name": "ipython",
    "version": 3
   },
   "file_extension": ".py",
   "mimetype": "text/x-python",
   "name": "python",
   "nbconvert_exporter": "python",
   "pygments_lexer": "ipython3",
   "version": "3.9.12"
  }
 },
 "nbformat": 4,
 "nbformat_minor": 5
}
