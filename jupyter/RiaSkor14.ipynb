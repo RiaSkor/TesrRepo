{
 "cells": [
  {
   "cell_type": "code",
   "execution_count": 31,
   "id": "fce20c02",
   "metadata": {},
   "outputs": [
    {
     "name": "stdout",
     "output_type": "stream",
     "text": [
      "C-0, F-32\n",
      "C-10, F-42\n",
      "C-20, F-52\n",
      "C-30, F-62\n",
      "C-40, F-72\n",
      "C-50, F-82\n",
      "C-60, F-92\n",
      "C-70, F-102\n",
      "C-80, F-112\n",
      "C-90, F-122\n",
      "C-100, F-132\n"
     ]
    }
   ],
   "source": [
    "for C in range(0, 101, 10):\n",
    "    F = int(9/5)*C+32\n",
    "    print(f'C-{C}, F-{F}')"
   ]
  },
  {
   "cell_type": "code",
   "execution_count": null,
   "id": "da9d9cc1",
   "metadata": {},
   "outputs": [],
   "source": []
  }
 ],
 "metadata": {
  "kernelspec": {
   "display_name": "Python 3 (ipykernel)",
   "language": "python",
   "name": "python3"
  },
  "language_info": {
   "codemirror_mode": {
    "name": "ipython",
    "version": 3
   },
   "file_extension": ".py",
   "mimetype": "text/x-python",
   "name": "python",
   "nbconvert_exporter": "python",
   "pygments_lexer": "ipython3",
   "version": "3.9.12"
  }
 },
 "nbformat": 4,
 "nbformat_minor": 5
}
