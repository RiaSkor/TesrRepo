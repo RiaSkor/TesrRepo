{
 "cells": [
  {
   "cell_type": "code",
   "execution_count": 15,
   "id": "5366778f",
   "metadata": {},
   "outputs": [
    {
     "name": "stdout",
     "output_type": "stream",
     "text": [
      "Введите показатель потребления топлива вашим автомобилем в галлонах на 1 милю: 4\n",
      "Америакнские галлоны  4.0 MPG\n",
      "В американских литрах  58.805\n"
     ]
    }
   ],
   "source": [
    "r=float(input(\"Введите показатель потребления топлива вашим автомобилем в галлонах на 1 милю: \"))\n",
    "l=235.22/r\n",
    "print(\"Америакнские галлоны \", r, \"MPG\")\n",
    "print(\"В американских литрах \", l)"
   ]
  },
  {
   "cell_type": "code",
   "execution_count": 14,
   "id": "882f21cf",
   "metadata": {},
   "outputs": [
    {
     "name": "stdout",
     "output_type": "stream",
     "text": [
      "Введите координаты первой точки в градусах (широту): 2\n",
      "Введите координаты первой точки в градусах (долготу): 3\n",
      "Введите координаты первой точки в градусах (широту): 4\n",
      "Введите координаты первой точки в градусах (долготу): 5\n",
      "314.2837483765595\n"
     ]
    }
   ],
   "source": [
    "t1=float(input(\"Введите координаты первой точки в градусах (широту): \"))\n",
    "g1=float(input(\"Введите координаты первой точки в градусах (долготу): \"))\n",
    "t2=float(input(\"Введите координаты первой точки в градусах (широту): \"))\n",
    "g2=float(input(\"Введите координаты первой точки в градусах (долготу): \"))\n",
    "import math\n",
    "r1=math.radians(t1)\n",
    "r2=math.radians(g1)\n",
    "r3=math.radians(t2)\n",
    "r4=math.radians(g2)\n",
    "distance=6371.01*math.acos(math.sin(r1)*math.sin(r3)+math.cos(r1)*math.cos(r3)*math.cos(r2-r4))\n",
    "print(distance)"
   ]
  },
  {
   "cell_type": "code",
   "execution_count": 30,
   "id": "bf889b73",
   "metadata": {},
   "outputs": [
    {
     "name": "stdout",
     "output_type": "stream",
     "text": [
      "Введите сумму сдачи в центах: 1243\n",
      "Количество монет достоинством в 2 toonie:  6.0\n",
      "Количество монет достоинством в 1 loonie:  0.0\n",
      "Количество монет достоинством в 25 центов:  1.0\n",
      "Количество монет достоинством в 10 центов:  1.0\n",
      "Количество монет достоинством в 5 центов:  1.0\n",
      "Количество монет достоинством в 1 цент:  2.0\n"
     ]
    }
   ],
   "source": [
    "pur=float(input(\"Введите сумму сдачи в центах: \"))\n",
    "pur=pur/100\n",
    "T=pur//2\n",
    "ost1=pur%2\n",
    "L=ost1//1\n",
    "ost2=ost1%1\n",
    "c25=ost2//0.25\n",
    "ost3=ost2%0.25\n",
    "c10=ost3//0.10\n",
    "ost4=ost3%0.10\n",
    "c5=ost4//0.05\n",
    "ost5=ost4%0.05\n",
    "c1=ost5//0.01\n",
    "\n",
    "print(\"Количество монет достоинством в 2 toonie: \", T)\n",
    "print(\"Количество монет достоинством в 1 loonie: \", L)\n",
    "print(\"Количество монет достоинством в 25 центов: \", c25)\n",
    "print(\"Количество монет достоинством в 10 центов: \", c10)\n",
    "print(\"Количество монет достоинством в 5 центов: \", c5)\n",
    "print(\"Количество монет достоинством в 1 цент: \", c1)"
   ]
  },
  {
   "cell_type": "code",
   "execution_count": 29,
   "id": "192c5fec",
   "metadata": {},
   "outputs": [
    {
     "name": "stdout",
     "output_type": "stream",
     "text": [
      "Введите ваш рост в футах: 6\n",
      "Ваш рост в сантиметрах:  182.88\n"
     ]
    }
   ],
   "source": [
    "f=float(input(\"Введите ваш рост в футах: \"))\n",
    "cm1=f*12\n",
    "cm2=cm1*2.54\n",
    "print(\"Ваш рост в сантиметрах: \", cm2)"
   ]
  },
  {
   "cell_type": "code",
   "execution_count": 32,
   "id": "53e4d955",
   "metadata": {},
   "outputs": [
    {
     "name": "stdout",
     "output_type": "stream",
     "text": [
      "Введите расстояние в футах: 10\n",
      "Расстояние в дюймах:  120.0\n",
      "Расстояние в ярдах:  3.33\n",
      "Расстояние в милях:  0.0018900000000000002\n"
     ]
    }
   ],
   "source": [
    "f=float(input(\"Введите расстояние в футах: \"))\n",
    "d=f*12\n",
    "ia=f*0.333\n",
    "m=f*0.000189\n",
    "print(\"Расстояние в дюймах: \", d)\n",
    "print(\"Расстояние в ярдах: \", ia)\n",
    "print(\"Расстояние в милях: \", m)"
   ]
  },
  {
   "cell_type": "code",
   "execution_count": null,
   "id": "809a47f2",
   "metadata": {},
   "outputs": [],
   "source": []
  }
 ],
 "metadata": {
  "kernelspec": {
   "display_name": "Python 3 (ipykernel)",
   "language": "python",
   "name": "python3"
  },
  "language_info": {
   "codemirror_mode": {
    "name": "ipython",
    "version": 3
   },
   "file_extension": ".py",
   "mimetype": "text/x-python",
   "name": "python",
   "nbconvert_exporter": "python",
   "pygments_lexer": "ipython3",
   "version": "3.9.12"
  }
 },
 "nbformat": 4,
 "nbformat_minor": 5
}
